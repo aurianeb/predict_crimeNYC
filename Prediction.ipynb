{
 "cells": [
  {
   "cell_type": "code",
   "execution_count": 44,
   "metadata": {
    "collapsed": false
   },
   "outputs": [],
   "source": [
    "import pandas as pd\n",
    "import numpy as np\n",
    "import statsmodels.api as sm"
   ]
  },
  {
   "cell_type": "markdown",
   "metadata": {},
   "source": [
    "# Load data"
   ]
  },
  {
   "cell_type": "code",
   "execution_count": 50,
   "metadata": {
    "collapsed": false
   },
   "outputs": [
    {
     "data": {
      "text/plain": [
       "0"
      ]
     },
     "execution_count": 50,
     "metadata": {},
     "output_type": "execute_result"
    }
   ],
   "source": [
    "data = pd.read_csv(\"data/full_misdemeanor.csv\").drop(\"Unnamed: 0\", axis=1)\n",
    "data.isnull().any().sum()"
   ]
  },
  {
   "cell_type": "code",
   "execution_count": 91,
   "metadata": {
    "collapsed": false,
    "scrolled": true
   },
   "outputs": [],
   "source": [
    "endog, exog = np.asarray(data[\"CMPLNT_NUM\"]), np.asarray(data.drop(\"CMPLNT_NUM\", axis=1))\n",
    "targets, features = data[\"CMPLNT_NUM\"], data.drop(\"CMPLNT_NUM\", axis=1)\n",
    "\n",
    "exog = sm.add_constant(exog)"
   ]
  },
  {
   "cell_type": "markdown",
   "metadata": {},
   "source": [
    "# Linear Model"
   ]
  },
  {
   "cell_type": "markdown",
   "metadata": {},
   "source": [
    "## OLS"
   ]
  },
  {
   "cell_type": "code",
   "execution_count": 45,
   "metadata": {
    "collapsed": false,
    "scrolled": true
   },
   "outputs": [
    {
     "name": "stdout",
     "output_type": "stream",
     "text": [
      "                            OLS Regression Results                            \n",
      "==============================================================================\n",
      "Dep. Variable:                      y   R-squared:                       0.080\n",
      "Model:                            OLS   Adj. R-squared:                  0.061\n",
      "Method:                 Least Squares   F-statistic:                     4.270\n",
      "Date:                Sat, 21 Apr 2018   Prob (F-statistic):           4.24e-49\n",
      "Time:                        10:28:57   Log-Likelihood:                -37005.\n",
      "No. Observations:                6281   AIC:                         7.426e+04\n",
      "Df Residuals:                    6155   BIC:                         7.511e+04\n",
      "Df Model:                         125                                         \n",
      "Covariance Type:            nonrobust                                         \n",
      "==============================================================================\n",
      "                 coef    std err          t      P>|t|      [0.025      0.975]\n",
      "------------------------------------------------------------------------------\n",
      "const         78.5199      6.212     12.640      0.000      66.342      90.698\n",
      "x1           -11.5477      1.419     -8.140      0.000     -14.329      -8.767\n",
      "x2            -0.0111      0.024     -0.454      0.650      -0.059       0.037\n",
      "x3            -0.0110      0.039     -0.284      0.777      -0.087       0.065\n",
      "x4         -4.266e-05      0.021     -0.002      0.998      -0.041       0.041\n",
      "x5            -0.0151      0.019     -0.774      0.439      -0.053       0.023\n",
      "x6            -0.0213      0.033     -0.652      0.514      -0.086       0.043\n",
      "x7             0.0063      0.032      0.197      0.844      -0.056       0.069\n",
      "x8            -0.0542      0.073     -0.747      0.455      -0.197       0.088\n",
      "x9             0.0605      0.057      1.060      0.289      -0.051       0.172\n",
      "x10           -0.0345      0.015     -2.355      0.019      -0.063      -0.006\n",
      "x11            0.0283      0.017      1.643      0.100      -0.005       0.062\n",
      "x12           -0.0628      0.028     -2.248      0.025      -0.117      -0.008\n",
      "x13            0.0218      0.025      0.885      0.376      -0.027       0.070\n",
      "x14           -0.0402      0.035     -1.136      0.256      -0.110       0.029\n",
      "x15           -0.0069      0.045     -0.151      0.880      -0.096       0.082\n",
      "x16            0.0310      0.046      0.673      0.501      -0.059       0.121\n",
      "x17            0.0188      0.058      0.326      0.745      -0.095       0.132\n",
      "x18           -0.0254      0.058     -0.441      0.659      -0.138       0.088\n",
      "x19           -0.0549      0.074     -0.743      0.457      -0.199       0.090\n",
      "x20            0.0198      0.075      0.262      0.793      -0.128       0.167\n",
      "x21            0.0032      0.042      0.077      0.939      -0.079       0.085\n",
      "x22           -0.0116      0.030     -0.386      0.700      -0.071       0.047\n",
      "x23            0.0328      0.031      1.073      0.283      -0.027       0.093\n",
      "x24            0.0156      0.035      0.449      0.653      -0.052       0.084\n",
      "x25            0.0189      0.036      0.531      0.595      -0.051       0.089\n",
      "x26            0.0250      0.036      0.696      0.487      -0.045       0.095\n",
      "x27           -0.0057      0.038     -0.152      0.879      -0.080       0.068\n",
      "x28            0.0320      0.040      0.804      0.421      -0.046       0.110\n",
      "x29           -0.0260      0.062     -0.420      0.674      -0.147       0.095\n",
      "x30            0.0372      0.055      0.676      0.499      -0.071       0.145\n",
      "x31           -0.0209      0.076     -0.274      0.784      -0.170       0.128\n",
      "x32            0.0234      0.069      0.337      0.736      -0.113       0.159\n",
      "x33            0.0457      0.058      0.790      0.430      -0.068       0.159\n",
      "x34            0.0480      0.071      0.676      0.499      -0.091       0.187\n",
      "x35           -0.1044      0.085     -1.228      0.219      -0.271       0.062\n",
      "x36           -0.0336      0.087     -0.386      0.699      -0.204       0.137\n",
      "x37            0.0070      0.024      0.293      0.770      -0.040       0.054\n",
      "x38            0.0074      0.036      0.205      0.838      -0.064       0.079\n",
      "x39            0.0154      0.045      0.341      0.733      -0.073       0.104\n",
      "x40            0.0308      0.047      0.659      0.510      -0.061       0.122\n",
      "x41           -0.0234      0.059     -0.400      0.689      -0.138       0.091\n",
      "x42           -0.0171      0.052     -0.329      0.742      -0.119       0.085\n",
      "x43            0.0311      0.069      0.448      0.654      -0.105       0.167\n",
      "x44           -0.0030      0.072     -0.042      0.966      -0.144       0.138\n",
      "x45            0.0411      0.041      1.001      0.317      -0.039       0.122\n",
      "x46            0.0052      0.031      0.169      0.866      -0.055       0.065\n",
      "x47            0.0027      0.032      0.083      0.934      -0.060       0.065\n",
      "x48            0.0105      0.037      0.288      0.773      -0.061       0.082\n",
      "x49            0.0178      0.038      0.473      0.637      -0.056       0.092\n",
      "x50           -0.0266      0.037     -0.713      0.476      -0.100       0.047\n",
      "x51            0.0004      0.038      0.010      0.992      -0.074       0.075\n",
      "x52           -0.0137      0.040     -0.346      0.729      -0.091       0.064\n",
      "x53           -0.0141      0.060     -0.236      0.813      -0.131       0.103\n",
      "x54           -0.0040      0.051     -0.078      0.938      -0.105       0.097\n",
      "x55            0.0182      0.066      0.277      0.782      -0.111       0.147\n",
      "x56           -0.0075      0.060     -0.125      0.900      -0.125       0.110\n",
      "x57            0.0081      0.052      0.155      0.877      -0.094       0.110\n",
      "x58           -0.0278      0.060     -0.461      0.645      -0.146       0.090\n",
      "x59           -0.0018      0.067     -0.027      0.978      -0.133       0.129\n",
      "x60           -0.0426      0.052     -0.812      0.417      -0.146       0.060\n",
      "x61        -1.667e-06   4.17e-05     -0.040      0.968   -8.34e-05       8e-05\n",
      "x62           -0.5973      0.606     -0.986      0.324      -1.785       0.591\n",
      "x63            0.2952      0.064      4.621      0.000       0.170       0.420\n",
      "x64            0.1069      0.026      4.180      0.000       0.057       0.157\n",
      "x65            0.0778      0.035      2.256      0.024       0.010       0.145\n",
      "x66            0.0350      0.029      1.201      0.230      -0.022       0.092\n",
      "x67            0.0362      0.028      1.309      0.191      -0.018       0.090\n",
      "x68            0.0339      0.026      1.311      0.190      -0.017       0.085\n",
      "x69            0.0319      0.026      1.216      0.224      -0.020       0.083\n",
      "x70            0.0237      0.029      0.824      0.410      -0.033       0.080\n",
      "x71            0.0376      0.022      1.671      0.095      -0.006       0.082\n",
      "x72           -0.0202      0.023     -0.878      0.380      -0.065       0.025\n",
      "x73           -0.0054      0.023     -0.236      0.813      -0.050       0.040\n",
      "x74            0.0126      0.054      0.233      0.816      -0.093       0.118\n",
      "x75           -0.0176      0.023     -0.755      0.450      -0.063       0.028\n",
      "x76            0.0654      0.167      0.393      0.695      -0.261       0.392\n",
      "x77           -0.0037      0.023     -0.160      0.873      -0.049       0.042\n",
      "x78           -0.0022      0.020     -0.108      0.914      -0.042       0.038\n",
      "x79           -0.0179      0.027     -0.656      0.512      -0.071       0.036\n",
      "x80            0.0157      0.021      0.733      0.464      -0.026       0.058\n",
      "x81           -0.0084      0.012     -0.710      0.478      -0.032       0.015\n",
      "x82           -0.0159      0.014     -1.114      0.265      -0.044       0.012\n",
      "x83           -0.0042      0.025     -0.170      0.865      -0.053       0.045\n",
      "x84           -0.0007      0.045     -0.015      0.988      -0.088       0.087\n",
      "x85           -0.0036      0.067     -0.053      0.958      -0.136       0.128\n",
      "x86           -0.0117      0.018     -0.633      0.527      -0.048       0.025\n",
      "x87           -0.0099      0.026     -0.381      0.703      -0.061       0.041\n",
      "x88            0.0236      0.051      0.461      0.645      -0.077       0.124\n",
      "x89           -0.0335      0.068     -0.492      0.623      -0.167       0.100\n",
      "x90           -0.0018      0.025     -0.070      0.944      -0.051       0.048\n",
      "x91            0.0318      0.040      0.788      0.431      -0.047       0.111\n",
      "x92           -0.0336      0.060     -0.559      0.576      -0.151       0.084\n",
      "x93            0.0076      0.011      0.709      0.479      -0.013       0.028\n",
      "x94            0.0082      0.019      0.436      0.663      -0.029       0.045\n",
      "x95            0.0503      0.029      1.741      0.082      -0.006       0.107\n",
      "x96           -0.0421      0.042     -1.008      0.314      -0.124       0.040\n",
      "x97           -0.0006      0.019     -0.032      0.974      -0.039       0.037\n",
      "x98           -0.0031      0.012     -0.254      0.800      -0.027       0.021\n",
      "x99           -0.0100      0.012     -0.871      0.384      -0.033       0.013\n",
      "x100          -0.0058      0.019     -0.302      0.763      -0.043       0.032\n",
      "x101          -0.0117      0.034     -0.343      0.731      -0.079       0.055\n",
      "x102           0.0059      0.051      0.116      0.908      -0.094       0.106\n",
      "x103          -0.0042      0.015     -0.289      0.772      -0.033       0.024\n",
      "x104           0.0105      0.023      0.456      0.648      -0.035       0.056\n",
      "x105           0.0028      0.039      0.071      0.944      -0.074       0.080\n",
      "x106           0.0078      0.055      0.141      0.888      -0.101       0.116\n",
      "x107          -0.0148      0.020     -0.750      0.453      -0.053       0.024\n",
      "x108          -0.0013      0.029     -0.046      0.963      -0.057       0.055\n",
      "x109          -0.0135      0.042     -0.322      0.747      -0.095       0.069\n",
      "x110           0.0070      0.012      0.597      0.550      -0.016       0.030\n",
      "x111          -0.0426      0.017     -2.437      0.015      -0.077      -0.008\n",
      "x112          -0.0220      0.020     -1.097      0.273      -0.061       0.017\n",
      "x113          -0.0206      0.032     -0.642      0.521      -0.084       0.042\n",
      "x114           0.0496      0.024      2.095      0.036       0.003       0.096\n",
      "x115          -0.0319      0.015     -2.104      0.035      -0.062      -0.002\n",
      "x116          -0.0056      0.025     -0.224      0.823      -0.055       0.043\n",
      "x117          -0.0263      0.023     -1.128      0.259      -0.072       0.019\n",
      "x118          -0.0177      0.013     -1.320      0.187      -0.044       0.009\n",
      "x119           0.0104      0.020      0.517      0.605      -0.029       0.050\n",
      "x120          -0.0281      0.015     -1.845      0.065      -0.058       0.002\n",
      "x121           0.0654      0.076      0.862      0.389      -0.083       0.214\n",
      "x122           0.0829      0.043      1.912      0.056      -0.002       0.168\n",
      "x123           0.0428      0.037      1.162      0.245      -0.029       0.115\n",
      "x124           0.0059      0.032      0.186      0.853      -0.056       0.068\n",
      "x125           0.0153      0.027      0.558      0.577      -0.038       0.069\n",
      "x126           0.0052      0.042      0.124      0.902      -0.077       0.088\n",
      "x127          -0.0199      0.022     -0.901      0.367      -0.063       0.023\n",
      "x128          -0.0162      0.045     -0.362      0.717      -0.104       0.071\n",
      "x129          -0.0311      0.033     -0.930      0.353      -0.097       0.034\n",
      "x130          -0.0367      0.024     -1.529      0.126      -0.084       0.010\n",
      "x131          -0.0258      0.022     -1.181      0.238      -0.069       0.017\n",
      "x132          -0.0210      0.032     -0.646      0.518      -0.085       0.043\n",
      "x133           0.0252      0.021      1.191      0.234      -0.016       0.067\n",
      "x134           0.0151      0.051      0.298      0.766      -0.084       0.114\n",
      "x135           0.0568      0.059      0.960      0.337      -0.059       0.173\n",
      "x136          -0.0460      0.062     -0.748      0.455      -0.167       0.075\n",
      "x137          -0.0314      0.066     -0.477      0.633      -0.160       0.098\n",
      "x138           0.0225      0.063      0.358      0.721      -0.101       0.146\n",
      "x139           0.0014      0.064      0.022      0.983      -0.123       0.126\n",
      "x140          -0.0492      0.065     -0.757      0.449      -0.176       0.078\n",
      "x141          -0.0526      0.067     -0.791      0.429      -0.183       0.078\n",
      "x142          -0.0223      0.067     -0.335      0.738      -0.153       0.108\n",
      "x143          -0.0090      0.063     -0.143      0.887      -0.132       0.114\n",
      "x144          -0.0167      0.063     -0.268      0.789      -0.139       0.106\n",
      "x145           0.0267      0.066      0.402      0.688      -0.103       0.157\n",
      "x146           0.0917      0.067      1.361      0.173      -0.040       0.224\n",
      "x147           0.0576      0.060      0.959      0.338      -0.060       0.175\n",
      "x148          -0.0012      0.029     -0.041      0.967      -0.058       0.056\n",
      "x149          -0.0179      0.037     -0.481      0.631      -0.091       0.055\n",
      "x150           0.0444      0.020      2.246      0.025       0.006       0.083\n",
      "x151           0.0799      0.071      1.128      0.260      -0.059       0.219\n",
      "x152           0.0571      0.068      0.840      0.401      -0.076       0.190\n",
      "x153           0.0986      0.112      0.882      0.378      -0.121       0.318\n",
      "x154          -0.0415      0.082     -0.505      0.614      -0.203       0.120\n",
      "x155           0.0769      0.186      0.414      0.679      -0.287       0.441\n",
      "x156          -0.0542      0.073     -0.740      0.459      -0.198       0.089\n",
      "x157           0.0298      0.024      1.250      0.211      -0.017       0.077\n",
      "==============================================================================\n",
      "Omnibus:                    19241.413   Durbin-Watson:                   1.996\n",
      "Prob(Omnibus):                  0.000   Jarque-Bera (JB):       2162844471.375\n",
      "Skew:                          45.812   Prob(JB):                         0.00\n",
      "Kurtosis:                    2876.315   Cond. No.                     2.53e+16\n",
      "==============================================================================\n",
      "\n",
      "Warnings:\n",
      "[1] Standard Errors assume that the covariance matrix of the errors is correctly specified.\n",
      "[2] The smallest eigenvalue is  5e-20. This might indicate that there are\n",
      "strong multicollinearity problems or that the design matrix is singular.\n"
     ]
    }
   ],
   "source": [
    "model = sm.OLS(endog, exog)\n",
    "results = model.fit()\n",
    "print(results.summary()) # Very poor perf"
   ]
  },
  {
   "cell_type": "markdown",
   "metadata": {},
   "source": [
    "## Lasso"
   ]
  },
  {
   "cell_type": "markdown",
   "metadata": {},
   "source": [
    "Since we have too many similar features, let's use a lasso regularization"
   ]
  },
  {
   "cell_type": "code",
   "execution_count": 80,
   "metadata": {
    "collapsed": false
   },
   "outputs": [],
   "source": [
    "from sklearn.linear_model import LassoCV, Lasso\n",
    "from sklearn.model_selection import cross_val_score"
   ]
  },
  {
   "cell_type": "code",
   "execution_count": 78,
   "metadata": {
    "collapsed": false
   },
   "outputs": [],
   "source": [
    "ls = LassoCV()\n",
    "ls.fit(features, targets)\n",
    "best_alpha = ls.alpha_"
   ]
  },
  {
   "cell_type": "code",
   "execution_count": 79,
   "metadata": {
    "collapsed": false
   },
   "outputs": [
    {
     "name": "stdout",
     "output_type": "stream",
     "text": [
      "147 157\n"
     ]
    },
    {
     "data": {
      "text/plain": [
       "Index(['Male:',\n",
       "       'Median household income in the past 12 months (in 2016 inflation-adjusted dollars)',\n",
       "       'Total - Built 2000 to 2009', 'Total - Black or African American alone',\n",
       "       'Total - Some other race alone',\n",
       "       'Income in the past 12 months below poverty level: - In family households: - In married couple families:',\n",
       "       'Income in the past 12 months below poverty level: - In family households: - In other families: - Female householder, no husband present: - All relatives',\n",
       "       'Income in the past 12 months at or above poverty level: - In family households:',\n",
       "       'Income in the past 12 months at or above poverty level: - In family households: - In married couple families:',\n",
       "       'Not enrolled in school'],\n",
       "      dtype='object')"
      ]
     },
     "execution_count": 79,
     "metadata": {},
     "output_type": "execute_result"
    }
   ],
   "source": [
    "# Columns useful\n",
    "print((ls.coef_ == 0).sum(), ls.coef_.shape[0])\n",
    "data.columns[1:][ls.coef_ != 0]"
   ]
  },
  {
   "cell_type": "code",
   "execution_count": 87,
   "metadata": {
    "collapsed": false
   },
   "outputs": [
    {
     "name": "stdout",
     "output_type": "stream",
     "text": [
      "Mean cross validated r2: 0.13650926698852536\n"
     ]
    }
   ],
   "source": [
    "# Now let's look at the validation metrics of our best model\n",
    "\n",
    "ls = Lasso(alpha=best_alpha)\n",
    "ls_scores = cross_val_score(ls, features, targets, cv=10, scoring='r2')\n",
    "print(\"Mean cross validated r2: {}\".format((ls_scores).mean()))"
   ]
  },
  {
   "cell_type": "markdown",
   "metadata": {},
   "source": [
    "# Random Forest"
   ]
  },
  {
   "cell_type": "code",
   "execution_count": 88,
   "metadata": {
    "collapsed": true
   },
   "outputs": [],
   "source": [
    "from sklearn.ensemble import RandomForestRegressor"
   ]
  },
  {
   "cell_type": "code",
   "execution_count": 92,
   "metadata": {
    "collapsed": false
   },
   "outputs": [
    {
     "data": {
      "text/plain": [
       "RandomForestRegressor(bootstrap=True, criterion='mse', max_depth=None,\n",
       "           max_features='auto', max_leaf_nodes=None,\n",
       "           min_impurity_decrease=0.0, min_impurity_split=None,\n",
       "           min_samples_leaf=1, min_samples_split=2,\n",
       "           min_weight_fraction_leaf=0.0, n_estimators=10, n_jobs=1,\n",
       "           oob_score=False, random_state=None, verbose=0, warm_start=False)"
      ]
     },
     "execution_count": 92,
     "metadata": {},
     "output_type": "execute_result"
    }
   ],
   "source": [
    "rf = RandomForestRegressor()\n",
    "rf.fit(features, targets)"
   ]
  },
  {
   "cell_type": "code",
   "execution_count": null,
   "metadata": {
    "collapsed": true
   },
   "outputs": [],
   "source": []
  }
 ],
 "metadata": {
  "kernelspec": {
   "display_name": "Python 3",
   "language": "python",
   "name": "python3"
  },
  "language_info": {
   "codemirror_mode": {
    "name": "ipython",
    "version": 3
   },
   "file_extension": ".py",
   "mimetype": "text/x-python",
   "name": "python",
   "nbconvert_exporter": "python",
   "pygments_lexer": "ipython3",
   "version": "3.5.0"
  }
 },
 "nbformat": 4,
 "nbformat_minor": 0
}
