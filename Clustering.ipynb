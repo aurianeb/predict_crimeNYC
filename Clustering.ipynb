{
 "cells": [
  {
   "cell_type": "code",
   "execution_count": 10,
   "metadata": {
    "collapsed": true
   },
   "outputs": [],
   "source": [
    "import pandas as pd\n",
    "import numpy as np\n",
    "from sklearn.cluster import KMeans\n",
    "import matplotlib.pyplot as plt\n",
    "\n",
    "% matplotlib inline"
   ]
  },
  {
   "cell_type": "markdown",
   "metadata": {},
   "source": [
    "# Load data"
   ]
  },
  {
   "cell_type": "code",
   "execution_count": 7,
   "metadata": {
    "collapsed": false
   },
   "outputs": [],
   "source": [
    "data = pd.read_csv(\"data/full_misdemeanor.csv\").drop(\"Unnamed: 0\", axis=1)\n",
    "features, targets = data.drop(\"CMPLNT_NUM\", axis=1), data[[\"CMPLNT_NUM\"]]"
   ]
  },
  {
   "cell_type": "markdown",
   "metadata": {},
   "source": [
    "# KMeans"
   ]
  },
  {
   "cell_type": "code",
   "execution_count": 11,
   "metadata": {
    "collapsed": false
   },
   "outputs": [
    {
     "data": {
      "image/png": "[encoded data removed]",
      "text/plain": [
       "<matplotlib.figure.Figure at 0x115651cf8>"
      ]
     },
     "metadata": {},
     "output_type": "display_data"
    }
   ],
   "source": [
    "sse = {}\n",
    "for k in range(1, 10):\n",
    "    kmeans = KMeans(n_clusters=k, max_iter=1000).fit(features)\n",
    "    sse[k] = kmeans.inertia_ # Inertia: Sum of distances of samples to their closest cluster center\n",
    "plt.figure()\n",
    "plt.plot(list(sse.keys()), list(sse.values()))\n",
    "plt.xlabel(\"Number of cluster\")\n",
    "plt.ylabel(\"SSE\")\n",
    "plt.show()"
   ]
  },
  {
   "cell_type": "markdown",
   "metadata": {},
   "source": [
    "Elbow at k=4"
   ]
  },
  {
   "cell_type": "code",
   "execution_count": 21,
   "metadata": {
    "collapsed": false
   },
   "outputs": [
    {
     "name": "stdout",
     "output_type": "stream",
     "text": [
      "CMPLNT_NUM    40.678554\n",
      "dtype: float64 crimes on average overall\n",
      "CMPLNT_NUM    34.646098\n",
      "dtype: float64 crimes on average for cluster 0\n",
      "CMPLNT_NUM    43.003356\n",
      "dtype: float64 crimes on average for cluster 1\n",
      "CMPLNT_NUM    58.059214\n",
      "dtype: float64 crimes on average for cluster 2\n",
      "CMPLNT_NUM    29.784659\n",
      "dtype: float64 crimes on average for cluster 3\n"
     ]
    }
   ],
   "source": [
    "n_clusters = 4\n",
    "kmeans = KMeans(n_clusters=n_clusters).fit(features)\n",
    "\n",
    "print(\"{} crimes on average overall\".format(targets.mean()))\n",
    "cluster_features = pd.DataFrame()\n",
    "\n",
    "for c in range(n_clusters):\n",
    "    print(\"{} crimes on average for cluster {}\".format(targets.ix[kmeans.labels_ == c].mean(), c))\n",
    "    cluster_features[\"mean_cluster_{}\".format(c)] = features.ix[kmeans.labels_ == c].mean(axis=0)\n",
    "    cluster_features[\"std_cluster_{}\".format(c)] = features.ix[kmeans.labels_ == c].std(axis=0)\n",
    "    cluster_features[\"CI_inf_cluster_{}\".format(c)] = cluster_features[\"mean_cluster_{}\".format(c)] - cluster_features[\"std_cluster_{}\".format(c)]\n",
    "    cluster_features[\"CI_sup_cluster_{}\".format(c)] = cluster_features[\"mean_cluster_{}\".format(c)] + cluster_features[\"std_cluster_{}\".format(c)]"
   ]
  },
  {
   "cell_type": "code",
   "execution_count": 24,
   "metadata": {
    "collapsed": false
   },
   "outputs": [
    {
     "data": {
      "text/plain": [
       "[<matplotlib.lines.Line2D at 0x11107d0b8>]"
      ]
     },
     "execution_count": 24,
     "metadata": {},
     "output_type": "execute_result"
    },
    {
     "data": {
      "image/png": "[encoded data removed]",
      "text/plain": [
       "<matplotlib.figure.Figure at 0x11095cb38>"
      ]
     },
     "metadata": {},
     "output_type": "display_data"
    }
   ],
   "source": [
    "for c in range(n_clusters):\n",
    "    for i, col in enumerate()\n",
    "plt.plot([cluster_features[\"CI_inf_cluster_{}\".format(c)][\"Median number of rooms\"], cluster_features[\"CI_sup_cluster_{}\".format(c)][\"Median number of rooms\"]], [1, 1])"
   ]
  },
  {
   "cell_type": "code",
   "execution_count": 18,
   "metadata": {
    "collapsed": false
   },
   "outputs": [
    {
     "data": {
      "text/plain": [
       "Median number of rooms                                                                                                                                                4.297278\n",
       "Total                                                                                                                                                               833.144465\n",
       "Total - Imputed                                                                                                                                                      16.303085\n",
       "Total - Not imputed                                                                                                                                                 816.841379\n",
       "Family households:                                                                                                                                                  308.423593\n",
       "Family households: - Married-couple family                                                                                                                          188.519056\n",
       "Family households: - Other family:                                                                                                                                  119.904537\n",
       "Family households: - Other family: - Male householder, no wife present                                                                                               31.836298\n",
       "Family households: - Other family: - Female householder, no husband present                                                                                          88.068240\n",
       "Nonfamily households:                                                                                                                                               181.474773\n",
       "Nonfamily households: - Householder living alone                                                                                                                    145.322323\n",
       "Nonfamily households: - Householder not living alone                                                                                                                 36.152450\n",
       "Male:                                                                                                                                                               669.887477\n",
       "Male: - Under 5 years                                                                                                                                                44.877677\n",
       "Male: - 5 to 9 years                                                                                                                                                 40.637750\n",
       "Male: - 10 to 14 years                                                                                                                                               38.447913\n",
       "Male: - 15 to 17 years                                                                                                                                               24.059528\n",
       "Male: - 18 and 19 years                                                                                                                                              15.501996\n",
       "Male: - 20 years                                                                                                                                                      9.747368\n",
       "Male: - 21 years                                                                                                                                                      9.127042\n",
       "Male: - 22 to 24 years                                                                                                                                               31.144102\n",
       "Male: - 25 to 29 years                                                                                                                                               63.601089\n",
       "Male: - 30 to 34 years                                                                                                                                               58.137205\n",
       "Male: - 35 to 39 years                                                                                                                                               50.342650\n",
       "Male: - 40 to 44 years                                                                                                                                               46.430127\n",
       "Male: - 45 to 49 years                                                                                                                                               45.719419\n",
       "Male: - 50 to 54 years                                                                                                                                               44.767695\n",
       "Male: - 55 to 59 years                                                                                                                                               40.344102\n",
       "Male: - 60 and 61 years                                                                                                                                              14.964065\n",
       "Male: - 62 to 64 years                                                                                                                                               19.909982\n",
       "                                                                                                                                                                       ...    \n",
       "Total - 35 to 39 minutes                                                                                                                                             20.248639\n",
       "Total - 40 to 44 minutes                                                                                                                                             45.868240\n",
       "Total - 45 to 59 minutes                                                                                                                                            106.209074\n",
       "Total - 60 to 89 minutes                                                                                                                                            126.663884\n",
       "Total - 90 or more minutes                                                                                                                                           46.610889\n",
       "Enrolled in school:                                                                                                                                                 339.843920\n",
       "Enrolled in school: - Enrolled in nursery school, preschool                                                                                                          20.301996\n",
       "Enrolled in school: - Enrolled in kindergarten                                                                                                                       17.348457\n",
       "Enrolled in school: - Enrolled in grade 1                                                                                                                            16.483485\n",
       "Enrolled in school: - Enrolled in grade 2                                                                                                                            15.114338\n",
       "Enrolled in school: - Enrolled in grade 3                                                                                                                            16.248276\n",
       "Enrolled in school: - Enrolled in grade 4                                                                                                                            15.041379\n",
       "Enrolled in school: - Enrolled in grade 5                                                                                                                            14.966606\n",
       "Enrolled in school: - Enrolled in grade 6                                                                                                                            15.178947\n",
       "Enrolled in school: - Enrolled in grade 7                                                                                                                            15.198185\n",
       "Enrolled in school: - Enrolled in grade 8                                                                                                                            15.230490\n",
       "Enrolled in school: - Enrolled in grade 9                                                                                                                            16.217786\n",
       "Enrolled in school: - Enrolled in grade 10                                                                                                                           16.142287\n",
       "Enrolled in school: - Enrolled in grade 11                                                                                                                           15.699819\n",
       "Enrolled in school: - Enrolled in grade 12                                                                                                                           18.306352\n",
       "Enrolled in school: - Enrolled in college, undergraduate years                                                                                                       86.603993\n",
       "Enrolled in school: - Graduate or professional school                                                                                                                25.761525\n",
       "Not enrolled in school                                                                                                                                              990.242105\n",
       "Housing units with a mortgage, contract to purchase, or similar debt:                                                                                               102.651906\n",
       "Housing units with a mortgage, contract to purchase, or similar debt: - With either a second mortgage or home equity loan, but not both:                             13.205808\n",
       "Housing units with a mortgage, contract to purchase, or similar debt: - With either a second mortgage or home equity loan, but not both: - Second mortgage only       2.895463\n",
       "Housing units with a mortgage, contract to purchase, or similar debt: - With either a second mortgage or home equity loan, but not both: - Home equity loan only     10.310345\n",
       "Housing units with a mortgage, contract to purchase, or similar debt: - Both second mortgage and home equity loan                                                     0.905263\n",
       "Housing units with a mortgage, contract to purchase, or similar debt: - No second mortgage and no home equity loan                                                   88.540835\n",
       "Housing units without a mortgage                                                                                                                                     66.187659\n",
       "Length: 157, dtype: float64"
      ]
     },
     "execution_count": 18,
     "metadata": {},
     "output_type": "execute_result"
    }
   ],
   "source": []
  },
  {
   "cell_type": "code",
   "execution_count": null,
   "metadata": {
    "collapsed": true
   },
   "outputs": [],
   "source": []
  }
 ],
 "metadata": {
  "kernelspec": {
   "display_name": "Python 3",
   "language": "python",
   "name": "python3"
  },
  "language_info": {
   "codemirror_mode": {
    "name": "ipython",
    "version": 3
   },
   "file_extension": ".py",
   "mimetype": "text/x-python",
   "name": "python",
   "nbconvert_exporter": "python",
   "pygments_lexer": "ipython3",
   "version": "3.5.0"
  }
 },
 "nbformat": 4,
 "nbformat_minor": 0
}
