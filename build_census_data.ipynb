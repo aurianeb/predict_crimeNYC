{
 "cells": [
  {
   "cell_type": "code",
   "execution_count": 71,
   "metadata": {
    "collapsed": true
   },
   "outputs": [],
   "source": [
    "import pandas as pd\n",
    "import numpy as np\n",
    "import os\n",
    "from functools import reduce\n",
    "import matplotlib.pyplot as plt\n",
    "\n",
    "% matplotlib inline"
   ]
  },
  {
   "cell_type": "code",
   "execution_count": 222,
   "metadata": {
    "collapsed": false
   },
   "outputs": [],
   "source": [
    "def clean_raw_data(df):\n",
    "    df.columns = df.iloc[0]\n",
    "    df.drop(0, inplace=True)\n",
    "    df.drop([\"Id\", \"Geography\"], axis=1, inplace=True)\n",
    "    cols = df.columns\n",
    "    cols = [x for x in cols if \"Margin of Error\" in x]\n",
    "    df.drop(cols, axis=1, inplace=True)\n",
    "    df.rename(columns={col: col.replace(\"Estimate; Total:\", \"Total\") for col in df.columns}, inplace=True)\n",
    "    df.rename(columns={col: col.replace(\"Estimate: - \", \"\") for col in df.columns}, inplace=True)\n",
    "    df.rename(columns={col: col.replace(\"Estimate; \", \"\") for col in df.columns}, inplace=True)\n",
    "    df.rename(columns={col: col.replace(\"Id2\", \"Id\") for col in df.columns}, inplace=True)\n",
    "    df.rename(columns={col: col.replace(\"Total - \", \"\") for col in df.columns}, inplace=True)\n",
    "    df.sort_values(\"Id\", inplace=True)\n",
    "    \n",
    "    df = df.astype(float)\n",
    "    df = df[df[\"Total\"] != 0]\n",
    "    df[\"BLOCK\"] = df[\"Id\"].astype(int).astype(str)\n",
    "    df.drop(\"Id\", axis=1, inplace=True)\n",
    "    \n",
    "    cols = [c for c in df .columns if c not in [\"BLOCK\"]]\n",
    "    if len(cols) == 1:\n",
    "        df = df.set_index(\"BLOCK\")\n",
    "        return df\n",
    "    df2 = df[cols].apply(lambda row: row / row[\"Total\"], axis=1)\n",
    "    df2[\"BLOCK\"] = df[\"BLOCK\"].astype(int).astype(str)\n",
    "    df2 = df2.set_index(\"BLOCK\").drop(\"Total\", axis=1)\n",
    "    return df2\n",
    "\n",
    "def clean_list_raw_data(dfs):\n",
    "    cleaned_dfs = []\n",
    "    for df in dfs:\n",
    "        cleaned_dfs.append(clean_raw_data(df.copy()))\n",
    "        \n",
    "    columns = [x.columns[0] for x in cleaned_dfs]\n",
    "    indexes = [x.index for x in cleaned_dfs]\n",
    "    indexes = list(set(indexes[0]).intersection(*indexes[:1]))\n",
    "    cleaned_dfs = [x.ix[indexes].sort_index() for x in cleaned_dfs]\n",
    "    assert len(set([x.shape[0] for x in cleaned_dfs])) == 1\n",
    "    results = pd.concat(cleaned_dfs, axis=1)\n",
    "        \n",
    "    return results, columns\n",
    "\n",
    "def compile_county_data(folder):\n",
    "    my_data = []\n",
    "    for file in os.listdir(folder):\n",
    "        if file.endswith(\"with_ann.csv\"):\n",
    "            my_data.append(pd.read_csv(os.path.join(folder, file)))\n",
    "    results, columns = clean_list_raw_data(my_data)\n",
    "#     results.rename({'Id': \"BLOCK\"}, axis=1, inplace=True)\n",
    "#     results[\"BLOCK\"] = results[\"BLOCK\"].apply(int).apply(str)\n",
    "    return results, columns"
   ]
  },
  {
   "cell_type": "code",
   "execution_count": 223,
   "metadata": {
    "collapsed": false,
    "scrolled": true
   },
   "outputs": [
    {
     "name": "stderr",
     "output_type": "stream",
     "text": [
      "/Library/Frameworks/Python.framework/Versions/3.5/lib/python3.5/site-packages/ipykernel_launcher.py:37: DeprecationWarning: \n",
      ".ix is deprecated. Please use\n",
      ".loc for label based indexing or\n",
      ".iloc for positional indexing\n",
      "\n",
      "See the documentation here:\n",
      "http://pandas.pydata.org/pandas-docs/stable/indexing.html#ix-indexer-is-deprecated\n"
     ]
    }
   ],
   "source": [
    "census, multicol_columns = compile_county_data(\"data/census_data\")\n",
    "census.to_csv(\"data/census_data.csv\")"
   ]
  },
  {
   "cell_type": "code",
   "execution_count": 133,
   "metadata": {
    "collapsed": false,
    "scrolled": true
   },
   "outputs": [
    {
     "name": "stderr",
     "output_type": "stream",
     "text": [
      "/Library/Frameworks/Python.framework/Versions/3.5/lib/python3.5/site-packages/IPython/core/interactiveshell.py:2802: DtypeWarning: Columns (17) have mixed types. Specify dtype option on import or set low_memory=False.\n",
      "  if self.run_code(code, result):\n"
     ]
    }
   ],
   "source": [
    "def compile_crime_data(folder):\n",
    "    my_data = []\n",
    "    for file in os.listdir(folder):\n",
    "        if file.startswith(\"crime_blocks\"):\n",
    "            my_data.append(pd.read_csv(os.path.join(folder, file)))\n",
    "    results = pd.concat(my_data, axis=0)\n",
    "    results.drop(\"Unnamed: 0\", axis=1, inplace=True)\n",
    "    \n",
    "    crimes = pd.read_csv('data/NYPD_Complaint_Data_Historic.csv')\n",
    "    assert len(set(crimes[\"CMPLNT_NUM\"])) == len(list(crimes[\"CMPLNT_NUM\"]))\n",
    "    crimes = crimes[crimes[\"CMPLNT_NUM\"].isin(list(results[\"CMPLNT_NUM\"]))]\n",
    "\n",
    "    results.sort_values(\"CMPLNT_NUM\", inplace=True)\n",
    "    crimes.sort_values(\"CMPLNT_NUM\", inplace=True)\n",
    "    results.reset_index(inplace=True)\n",
    "    crimes.reset_index(inplace=True)\n",
    "\n",
    "    results = pd.concat([results, crimes], axis=1)\n",
    "    results.drop(\"index\", axis=1, inplace=True)\n",
    "    results = results.loc[:,~results.columns.duplicated()]\n",
    "    # Dive down to the block group level, not block\n",
    "    results[\"BLOCK\"] = results[\"BLOCK\"].apply(str).str[:12]\n",
    "    \n",
    "    results[\"YEAR\"] = results['CMPLNT_FR_DT'].str[-4:]\n",
    "    results = results[results[\"YEAR\"] == '2015']\n",
    "    results = results.groupby([\"BLOCK\", \"LAW_CAT_CD\"])[\"CMPLNT_NUM\"].count().unstack(level=1)\n",
    "    \n",
    "    return results\n",
    "\n",
    "complaints = compile_crime_data(\"data\")\n",
    "complaints.to_csv('data/NYPD_Complaint_Data_Historic_with_blocks.csv')"
   ]
  },
  {
   "cell_type": "markdown",
   "metadata": {},
   "source": [
    "# How to deal with the crime data?"
   ]
  },
  {
   "cell_type": "markdown",
   "metadata": {},
   "source": [
    "Decision call:\n",
    "\n",
    "- Group by BLOCK\n",
    "- Group by day (CMPLNT_FR_DT) or year\n",
    "- Group by offense level (LAW_CAT_CD)\n",
    "\n",
    "What to do next?\n",
    "\n",
    "One model per day of week"
   ]
  },
  {
   "cell_type": "code",
   "execution_count": 225,
   "metadata": {
    "collapsed": false,
    "scrolled": true
   },
   "outputs": [
    {
     "name": "stderr",
     "output_type": "stream",
     "text": [
      "/Library/Frameworks/Python.framework/Versions/3.5/lib/python3.5/site-packages/ipykernel_launcher.py:2: DeprecationWarning: \n",
      ".ix is deprecated. Please use\n",
      ".loc for label based indexing or\n",
      ".iloc for positional indexing\n",
      "\n",
      "See the documentation here:\n",
      "http://pandas.pydata.org/pandas-docs/stable/indexing.html#ix-indexer-is-deprecated\n",
      "  \n"
     ]
    }
   ],
   "source": [
    "idx = set(census.index).intersection(complaints.index)\n",
    "census2 = census.ix[idx].sort_index()\n",
    "complaints2 = complaints.ix[idx].sort_index()\n",
    "results = pd.concat([census2, complaints2], axis=1).dropna(axis=0)\n"
   ]
  },
  {
   "cell_type": "code",
   "execution_count": 226,
   "metadata": {
    "collapsed": false,
    "scrolled": true
   },
   "outputs": [],
   "source": [
    "results[\"FELONY_perc\"] = results[\"FELONY\"] / results[\"Total\"]\n",
    "results[\"MISDEMEANOR_perc\"] = results[\"MISDEMEANOR\"] / results[\"Total\"]\n",
    "results[\"VIOLATION_perc\"] = results[\"VIOLATION\"] / results[\"Total\"]"
   ]
  },
  {
   "cell_type": "code",
   "execution_count": 214,
   "metadata": {
    "collapsed": false,
    "scrolled": true
   },
   "outputs": [],
   "source": [
    "results.to_csv(\"data/full_dataset.csv\", index=False)"
   ]
  },
  {
   "cell_type": "code",
   "execution_count": 227,
   "metadata": {
    "collapsed": false,
    "scrolled": true
   },
   "outputs": [],
   "source": [
    "results.drop(multicol_columns, axis=1).to_csv(\"data/drop_first_dataset.csv\", index=False)"
   ]
  },
  {
   "cell_type": "code",
   "execution_count": 218,
   "metadata": {
    "collapsed": false,
    "scrolled": true
   },
   "outputs": [
    {
     "name": "stdout",
     "output_type": "stream",
     "text": [
      "$10,000 to $14,999\n",
      "$100,000 to $124,999\n",
      "$125,000 to $149,999\n",
      "$15,000 to $19,999\n",
      "$150,000 to $199,999\n",
      "$20,000 to $24,999\n",
      "$200,000 or more\n",
      "$25,000 to $29,999\n",
      "$30,000 to $34,999\n",
      "$35,000 to $39,999\n",
      "$40,000 to $44,999\n",
      "$45,000 to $49,999\n",
      "$50,000 to $59,999\n",
      "$60,000 to $74,999\n",
      "$75,000 to $99,999\n",
      "10th grade\n",
      "11th grade\n",
      "12th grade, no diploma\n",
      "1st grade\n",
      "2nd grade\n",
      "3rd grade\n",
      "4th grade\n",
      "5th grade\n",
      "6th grade\n",
      "7th grade\n",
      "8th grade\n",
      "9th grade\n",
      "American Indian and Alaska Native alone\n",
      "Asian alone\n",
      "Associate's degree\n",
      "Bachelor's degree\n",
      "Black or African American alone\n",
      "Built 1939 or earlier\n",
      "Built 1940 to 1949\n",
      "Built 1950 to 1959\n",
      "Built 1960 to 1969\n",
      "Built 1970 to 1979\n",
      "Built 1980 to 1989\n",
      "Built 1990 to 1999\n",
      "Built 2000 to 2009\n",
      "Built 2010 to 2013\n",
      "Built 2014 or later\n",
      "Doctorate degree\n",
      "FELONY\n",
      "FELONY_perc\n",
      "Family households:\n",
      "Family households: - 2-person household\n",
      "Family households: - 3-person household\n",
      "Family households: - 4-person household\n",
      "Family households: - 5-person household\n",
      "Family households: - 6-person household\n",
      "Family households: - 7-or-more person household\n",
      "Female:\n",
      "Female: - 10 to 14 years\n",
      "Female: - 15 to 17 years\n",
      "Female: - 18 and 19 years\n",
      "Female: - 20 years\n",
      "Female: - 21 years\n",
      "Female: - 22 to 24 years\n",
      "Female: - 25 to 29 years\n",
      "Female: - 30 to 34 years\n",
      "Female: - 35 to 39 years\n",
      "Female: - 40 to 44 years\n",
      "Female: - 45 to 49 years\n",
      "Female: - 5 to 9 years\n",
      "Female: - 50 to 54 years\n",
      "Female: - 55 to 59 years\n",
      "Female: - 60 and 61 years\n",
      "Female: - 62 to 64 years\n",
      "Female: - 65 and 66 years\n",
      "Female: - 67 to 69 years\n",
      "Female: - 70 to 74 years\n",
      "Female: - 75 to 79 years\n",
      "Female: - 80 to 84 years\n",
      "Female: - 85 years and over\n",
      "Female: - Under 5 years\n",
      "GED or alternative credential\n",
      "In labor force:\n",
      "In labor force: - Armed Forces\n",
      "In labor force: - Civilian labor force:\n",
      "In labor force: - Civilian labor force: - Employed\n",
      "In labor force: - Civilian labor force: - Unemployed\n",
      "Kindergarten\n",
      "Less than $10,000\n",
      "MISDEMEANOR\n",
      "MISDEMEANOR_perc\n",
      "Male:\n",
      "Male: - 10 to 14 years\n",
      "Male: - 15 to 17 years\n",
      "Male: - 18 and 19 years\n",
      "Male: - 20 years\n",
      "Male: - 21 years\n",
      "Male: - 22 to 24 years\n",
      "Male: - 25 to 29 years\n",
      "Male: - 30 to 34 years\n",
      "Male: - 35 to 39 years\n",
      "Male: - 40 to 44 years\n",
      "Male: - 45 to 49 years\n",
      "Male: - 5 to 9 years\n",
      "Male: - 50 to 54 years\n",
      "Male: - 55 to 59 years\n",
      "Male: - 60 and 61 years\n",
      "Male: - 62 to 64 years\n",
      "Male: - 65 and 66 years\n",
      "Male: - 67 to 69 years\n",
      "Male: - 70 to 74 years\n",
      "Male: - 75 to 79 years\n",
      "Male: - 80 to 84 years\n",
      "Male: - 85 years and over\n",
      "Male: - Under 5 years\n",
      "Master's degree\n",
      "Native Hawaiian and Other Pacific Islander alone\n",
      "No schooling completed\n",
      "Nonfamily households:\n",
      "Nonfamily households: - 1-person household\n",
      "Nonfamily households: - 2-person household\n",
      "Nonfamily households: - 3-person household\n",
      "Nonfamily households: - 4-person household\n",
      "Nonfamily households: - 5-person household\n",
      "Nonfamily households: - 6-person household\n",
      "Nonfamily households: - 7-or-more person household\n",
      "Not in labor force\n",
      "Nursery school\n",
      "Professional school degree\n",
      "Regular high school diploma\n",
      "Some college, 1 or more years, no degree\n",
      "Some college, less than 1 year\n",
      "Some other race alone\n",
      "Total\n",
      "Two or more races:\n",
      "Two or more races: - Two races excluding Some other race, and three or more races\n",
      "Two or more races: - Two races including Some other race\n",
      "VIOLATION\n",
      "VIOLATION_perc\n",
      "White alone\n"
     ]
    }
   ],
   "source": [
    "for c in sorted(results.columns):\n",
    "    print(c)"
   ]
  },
  {
   "cell_type": "code",
   "execution_count": 79,
   "metadata": {
    "collapsed": true
   },
   "outputs": [],
   "source": [
    "def build_full_datasets(census, complaints):\n",
    "    complaints[\"YEAR\"] = complaints['CMPLNT_FR_DT'].str[-4:]\n",
    "\n",
    "    misdemeanor = complaints[complaints[\"LAW_CAT_CD\"] == \"MISDEMEANOR\"].groupby([\"BLOCK\", \"YEAR\"])[\"CMPLNT_NUM\"].count()\n",
    "    felonies = complaints[complaints[\"LAW_CAT_CD\"] == \"FELONY\"].groupby([\"BLOCK\", \"YEAR\"])[\"CMPLNT_NUM\"].count()\n",
    "    violation = complaints[complaints[\"LAW_CAT_CD\"] == \"VIOLATION\"].groupby([\"BLOCK\", \"YEAR\"])[\"CMPLNT_NUM\"].count()\n",
    "    \n",
    "    blocks = list(set(complaints[\"BLOCK\"]))\n",
    "    dates = list(set(complaints[\"YEAR\"]))\n",
    "    midx = pd.MultiIndex.from_product([blocks, dates], names=['BLOCK', 'YEAR'])\n",
    "\n",
    "    misdemeanor = misdemeanor.reindex(midx, fill_value=0).reset_index()\n",
    "    felonies = felonies.reindex(midx, fill_value=0).reset_index()\n",
    "    violation = violation.reindex(midx, fill_value=0).reset_index()\n",
    "    \n",
    "    # full_misdemeanor = misdemeanor.join(census.set_index(census.BLOCK), on=\"BLOCK\", how=\"left\", lsuffix=\"_complaints\")\n",
    "    full_misdemeanor = misdemeanor.join(census)\n",
    "    full_misdemeanor = full_misdemeanor.drop([\"BLOCK\", \"YEAR\"], axis=1).dropna(axis=0)\n",
    "    full_misdemeanor[\"CMPLNT_NUM\"] = full_misdemeanor[\"CMPLNT_NUM\"] / full_misdemeanor[\"Total\"]\n",
    "    full_misdemeanor.to_csv(\"data/full_misdemeanor.csv\")\n",
    "    \n",
    "    # full_felonies = felonies.join(census.set_index(census.BLOCK), on=\"BLOCK\", how=\"left\", lsuffix=\"_complaints\")\n",
    "    full_felonies = felonies.join(census)\n",
    "    full_felonies = full_felonies.drop([\"BLOCK\", \"YEAR\"], axis=1).dropna(axis=0)\n",
    "    full_felonies[\"CMPLNT_NUM\"] = full_felonies[\"CMPLNT_NUM\"] / full_felonies[\"Total\"]\n",
    "    full_felonies.to_csv(\"data/full_felonies.csv\")\n",
    "    \n",
    "    # full_violation = violation.join(census.set_index(census.BLOCK), on=\"BLOCK\", how=\"left\", lsuffix=\"_complaints\")\n",
    "    full_violation = violation.join(census)\n",
    "    full_violation = full_violation.drop([\"BLOCK\", \"YEAR\"], axis=1).dropna(axis=0)\n",
    "    full_violation[\"CMPLNT_NUM\"] = full_violation[\"CMPLNT_NUM\"] / full_violation[\"Total\"]\n",
    "    full_violation.to_csv(\"data/full_violation.csv\")\n",
    "\n",
    "    return full_misdemeanor, full_felonies, full_violation"
   ]
  },
  {
   "cell_type": "code",
   "execution_count": 80,
   "metadata": {
    "collapsed": false
   },
   "outputs": [],
   "source": [
    "full_misdemeanor, full_felonies, full_violation = build_full_datasets(census, complaints)"
   ]
  },
  {
   "cell_type": "code",
   "execution_count": 82,
   "metadata": {
    "collapsed": false
   },
   "outputs": [
    {
     "data": {
      "text/html": [
       "<div>\n",
       "<style scoped>\n",
       "    .dataframe tbody tr th:only-of-type {\n",
       "        vertical-align: middle;\n",
       "    }\n",
       "\n",
       "    .dataframe tbody tr th {\n",
       "        vertical-align: top;\n",
       "    }\n",
       "\n",
       "    .dataframe thead th {\n",
       "        text-align: right;\n",
       "    }\n",
       "</style>\n",
       "<table border=\"1\" class=\"dataframe\">\n",
       "  <thead>\n",
       "    <tr style=\"text-align: right;\">\n",
       "      <th></th>\n",
       "      <th>CMPLNT_NUM</th>\n",
       "      <th>No schooling completed</th>\n",
       "      <th>Nursery school</th>\n",
       "      <th>Kindergarten</th>\n",
       "      <th>1st grade</th>\n",
       "      <th>2nd grade</th>\n",
       "      <th>3rd grade</th>\n",
       "      <th>4th grade</th>\n",
       "      <th>5th grade</th>\n",
       "      <th>6th grade</th>\n",
       "      <th>...</th>\n",
       "      <th>Built 2014 or later</th>\n",
       "      <th>Built 2010 to 2013</th>\n",
       "      <th>Built 2000 to 2009</th>\n",
       "      <th>Built 1990 to 1999</th>\n",
       "      <th>Built 1980 to 1989</th>\n",
       "      <th>Built 1970 to 1979</th>\n",
       "      <th>Built 1960 to 1969</th>\n",
       "      <th>Built 1950 to 1959</th>\n",
       "      <th>Built 1940 to 1949</th>\n",
       "      <th>Built 1939 or earlier</th>\n",
       "    </tr>\n",
       "  </thead>\n",
       "  <tbody>\n",
       "  </tbody>\n",
       "</table>\n",
       "<p>0 rows × 130 columns</p>\n",
       "</div>"
      ],
      "text/plain": [
       "Empty DataFrame\n",
       "Columns: [CMPLNT_NUM, No schooling completed, Nursery school, Kindergarten, 1st grade, 2nd grade, 3rd grade, 4th grade, 5th grade, 6th grade, 7th grade, 8th grade, 9th grade, 10th grade, 11th grade, 12th grade, no diploma, Regular high school diploma, GED or alternative credential, Some college, less than 1 year, Some college, 1 or more years, no degree, Associate's degree, Bachelor's degree, Master's degree, Professional school degree, Doctorate degree, Male:, Male: - Under 5 years, Male: - 5 to 9 years, Male: - 10 to 14 years, Male: - 15 to 17 years, Male: - 18 and 19 years, Male: - 20 years, Male: - 21 years, Male: - 22 to 24 years, Male: - 25 to 29 years, Male: - 30 to 34 years, Male: - 35 to 39 years, Male: - 40 to 44 years, Male: - 45 to 49 years, Male: - 50 to 54 years, Male: - 55 to 59 years, Male: - 60 and 61 years, Male: - 62 to 64 years, Male: - 65 and 66 years, Male: - 67 to 69 years, Male: - 70 to 74 years, Male: - 75 to 79 years, Male: - 80 to 84 years, Male: - 85 years and over, Female:, Female: - Under 5 years, Female: - 5 to 9 years, Female: - 10 to 14 years, Female: - 15 to 17 years, Female: - 18 and 19 years, Female: - 20 years, Female: - 21 years, Female: - 22 to 24 years, Female: - 25 to 29 years, Female: - 30 to 34 years, Female: - 35 to 39 years, Female: - 40 to 44 years, Female: - 45 to 49 years, Female: - 50 to 54 years, Female: - 55 to 59 years, Female: - 60 and 61 years, Female: - 62 to 64 years, Female: - 65 and 66 years, Female: - 67 to 69 years, Female: - 70 to 74 years, Female: - 75 to 79 years, Female: - 80 to 84 years, Female: - 85 years and over, Less than $10,000, $10,000 to $14,999, $15,000 to $19,999, $20,000 to $24,999, $25,000 to $29,999, $30,000 to $34,999, $35,000 to $39,999, $40,000 to $44,999, $45,000 to $49,999, $50,000 to $59,999, $60,000 to $74,999, $75,000 to $99,999, $100,000 to $124,999, $125,000 to $149,999, $150,000 to $199,999, $200,000 or more, In labor force:, In labor force: - Civilian labor force:, In labor force: - Civilian labor force: - Employed, In labor force: - Civilian labor force: - Unemployed, In labor force: - Armed Forces, Not in labor force, Family households:, Family households: - 2-person household, Family households: - 3-person household, Family households: - 4-person household, Family households: - 5-person household, ...]\n",
       "Index: []\n",
       "\n",
       "[0 rows x 130 columns]"
      ]
     },
     "execution_count": 82,
     "metadata": {},
     "output_type": "execute_result"
    }
   ],
   "source": [
    "full_felonies"
   ]
  },
  {
   "cell_type": "code",
   "execution_count": 273,
   "metadata": {
    "collapsed": false
   },
   "outputs": [
    {
     "data": {
      "image/png": "[encoded data removed]",
      "text/plain": [
       "<Figure size 432x288 with 1 Axes>"
      ]
     },
     "metadata": {},
     "output_type": "display_data"
    }
   ],
   "source": [
    "full_misdemeanor[\"CMPLNT_NUM\"].hist(bins=50, label=\"Misdemeanor\")\n",
    "full_felonies[\"CMPLNT_NUM\"].hist(bins=50, label=\"Felonies\")\n",
    "full_violation[\"CMPLNT_NUM\"].hist(bins=50, label=\"Vioation\")\n",
    "plt.legend()\n",
    "plt.savefig(\"crime_hist.png\")"
   ]
  },
  {
   "cell_type": "code",
   "execution_count": null,
   "metadata": {
    "collapsed": true
   },
   "outputs": [],
   "source": []
  }
 ],
 "metadata": {
  "kernelspec": {
   "display_name": "Python 3",
   "language": "python",
   "name": "python3"
  },
  "language_info": {
   "codemirror_mode": {
    "name": "ipython",
    "version": 3
   },
   "file_extension": ".py",
   "mimetype": "text/x-python",
   "name": "python",
   "nbconvert_exporter": "python",
   "pygments_lexer": "ipython3",
   "version": "3.5.0"
  }
 },
 "nbformat": 4,
 "nbformat_minor": 0
}
