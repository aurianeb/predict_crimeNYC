{
 "cells": [
  {
   "cell_type": "code",
   "execution_count": 36,
   "metadata": {
    "collapsed": true
   },
   "outputs": [],
   "source": [
    "import pandas as pd\n",
    "import numpy as np\n",
    "import os"
   ]
  },
  {
   "cell_type": "code",
   "execution_count": 2,
   "metadata": {
    "collapsed": false
   },
   "outputs": [],
   "source": [
    "def clean_raw_data(df):\n",
    "    df.columns = df.iloc[0]\n",
    "    df.drop(0, inplace=True)\n",
    "    df.drop([\"Id\", \"Geography\"], axis=1, inplace=True)\n",
    "    cols = df.columns\n",
    "    cols = [x for x in cols if \"Margin of Error\" in x]\n",
    "    df.drop(cols, axis=1, inplace=True)\n",
    "    df.rename(columns={col: col.replace(\"Estimate; Total:\", \"Total\") for col in df.columns}, inplace=True)\n",
    "    df.rename(columns={col: col.replace(\"Estimate: - \", \"\") for col in df.columns}, inplace=True)\n",
    "    df.rename(columns={col: col.replace(\"Estimate; \", \"\") for col in df.columns}, inplace=True)\n",
    "    df.rename(columns={col: col.replace(\"Id2\", \"Id\") for col in df.columns}, inplace=True)\n",
    "    df.sort_values(\"Id\", inplace=True)\n",
    "    return df\n",
    "\n",
    "def clean_list_raw_data(dfs):\n",
    "    cleaned_dfs = []\n",
    "    for df in dfs:\n",
    "        cleaned_dfs.append(clean_raw_data(df.copy()))\n",
    "        \n",
    "    df_length = [x.shape[0] for x in cleaned_dfs]\n",
    "    assert len(set(df_length)) == 1\n",
    "    results = pd.concat(cleaned_dfs, axis=1)\n",
    "    results = results.loc[:,~results.columns.duplicated()]\n",
    "    return results\n",
    "\n",
    "def compile_county_data(folder):\n",
    "    my_data = []\n",
    "    for file in os.listdir(folder):\n",
    "        if file.endswith(\"with_ann.csv\"):\n",
    "            my_data.append(pd.read_csv(os.path.join(folder, file)))\n",
    "    results = clean_list_raw_data(my_data)\n",
    "    results.rename({'Id': \"BLOCK\"}, axis=1, inplace=True)\n",
    "    return results"
   ]
  },
  {
   "cell_type": "code",
   "execution_count": 3,
   "metadata": {
    "collapsed": false,
    "scrolled": true
   },
   "outputs": [],
   "source": [
    "census = compile_county_data(\"data/census_data\")\n",
    "census.to_csv(\"data/census_data.csv\")"
   ]
  },
  {
   "cell_type": "code",
   "execution_count": 4,
   "metadata": {
    "collapsed": false,
    "scrolled": true
   },
   "outputs": [
    {
     "name": "stderr",
     "output_type": "stream",
     "text": [
      "/Library/Frameworks/Python.framework/Versions/3.5/lib/python3.5/site-packages/IPython/core/interactiveshell.py:2802: DtypeWarning: Columns (17) have mixed types. Specify dtype option on import or set low_memory=False.\n",
      "  if self.run_code(code, result):\n"
     ]
    }
   ],
   "source": [
    "def compile_crime_data(folder):\n",
    "    my_data = []\n",
    "    for file in os.listdir(folder):\n",
    "        if file.startswith(\"crime_blocks\"):\n",
    "            my_data.append(pd.read_csv(os.path.join(folder, file)))\n",
    "    results = pd.concat(my_data, axis=0)\n",
    "    results.drop(\"Unnamed: 0\", axis=1, inplace=True)\n",
    "    \n",
    "    crimes = pd.read_csv('data/NYPD_Complaint_Data_Historic.csv')\n",
    "    assert len(set(crimes[\"CMPLNT_NUM\"])) == len(list(crimes[\"CMPLNT_NUM\"]))\n",
    "    crimes = crimes[crimes[\"CMPLNT_NUM\"].isin(list(results[\"CMPLNT_NUM\"]))]\n",
    "\n",
    "    results.sort_values(\"CMPLNT_NUM\", inplace=True)\n",
    "    crimes.sort_values(\"CMPLNT_NUM\", inplace=True)\n",
    "    results.reset_index(inplace=True)\n",
    "    crimes.reset_index(inplace=True)\n",
    "\n",
    "    results = pd.concat([results, crimes], axis=1)\n",
    "    results.drop(\"index\", axis=1, inplace=True)\n",
    "    results = results.loc[:,~results.columns.duplicated()]\n",
    "    # Dive down to the block group level, not block\n",
    "    results[\"BLOCK\"] = results[\"BLOCK\"].apply(str).str[:12]\n",
    "    return results\n",
    "\n",
    "complaints = compile_crime_data(\"data\")\n",
    "complaints.to_csv('data/NYPD_Complaint_Data_Historic_with_blocks.csv')"
   ]
  },
  {
   "cell_type": "markdown",
   "metadata": {},
   "source": [
    "# How to deal with the crime data?\n",
    "\n",
    "Decision call\n",
    "- Group by BLOCK\n",
    "- Group by day (CMPLNT_FR_DT) or year\n",
    "- Group by offense level (LAW_CAT_CD)\n",
    "\n",
    "\n",
    "What to do next?\n",
    "\n",
    "- One model per day of week\n"
   ]
  },
  {
   "cell_type": "code",
   "execution_count": 54,
   "metadata": {
    "collapsed": false
   },
   "outputs": [],
   "source": [
    "complaints[\"YEAR\"] = complaints['CMPLNT_FR_DT'].str[-4:]\n",
    "\n",
    "misdemeanor = complaints[complaints[\"LAW_CAT_CD\"] == \"MISDEMEANOR\"].groupby([\"BLOCK\", \"YEAR\"])[\"CMPLNT_NUM\"].count()\n",
    "felonies = complaints[complaints[\"LAW_CAT_CD\"] == \"FELONY\"].groupby([\"BLOCK\", \"YEAR\"])[\"CMPLNT_NUM\"].count()\n",
    "violation = complaints[complaints[\"LAW_CAT_CD\"] == \"VIOLATION\"].groupby([\"BLOCK\", \"YEAR\"])[\"CMPLNT_NUM\"].count()"
   ]
  },
  {
   "cell_type": "code",
   "execution_count": 55,
   "metadata": {
    "collapsed": false,
    "scrolled": true
   },
   "outputs": [],
   "source": [
    "blocks = list(set(complaints[\"BLOCK\"]))\n",
    "dates = list(set(complaints[\"YEAR\"]))\n",
    "midx = pd.MultiIndex.from_product([blocks, dates], names=['BLOCK', 'YEAR'])\n",
    "\n",
    "misdemeanor = misdemeanor.reindex(midx, fill_value=0).reset_index()\n",
    "felonies = felonies.reindex(midx, fill_value=0).reset_index()\n",
    "violation = violation.reindex(midx, fill_value=0).reset_index()"
   ]
  },
  {
   "cell_type": "code",
   "execution_count": 56,
   "metadata": {
    "collapsed": false
   },
   "outputs": [],
   "source": [
    "full_misdemeanor = misdemeanor.join(census.set_index(census.BLOCK), on=\"BLOCK\", how=\"left\", lsuffix=\"_complaints\")"
   ]
  },
  {
   "cell_type": "code",
   "execution_count": 57,
   "metadata": {
    "collapsed": false,
    "scrolled": true
   },
   "outputs": [
    {
     "name": "stdout",
     "output_type": "stream",
     "text": [
      "40.6785543703232\n"
     ]
    },
    {
     "data": {
      "text/html": [
       "<div>\n",
       "<style scoped>\n",
       "    .dataframe tbody tr th:only-of-type {\n",
       "        vertical-align: middle;\n",
       "    }\n",
       "\n",
       "    .dataframe tbody tr th {\n",
       "        vertical-align: top;\n",
       "    }\n",
       "\n",
       "    .dataframe thead th {\n",
       "        text-align: right;\n",
       "    }\n",
       "</style>\n",
       "<table border=\"1\" class=\"dataframe\">\n",
       "  <thead>\n",
       "    <tr style=\"text-align: right;\">\n",
       "      <th></th>\n",
       "      <th>CMPLNT_NUM</th>\n",
       "      <th>Median number of rooms</th>\n",
       "      <th>Total</th>\n",
       "      <th>Total - Imputed</th>\n",
       "      <th>Total - Not imputed</th>\n",
       "      <th>Family households:</th>\n",
       "      <th>Family households: - Married-couple family</th>\n",
       "      <th>Family households: - Other family:</th>\n",
       "      <th>Family households: - Other family: - Male householder, no wife present</th>\n",
       "      <th>Family households: - Other family: - Female householder, no husband present</th>\n",
       "      <th>...</th>\n",
       "      <th>Enrolled in school: - Enrolled in college, undergraduate years</th>\n",
       "      <th>Enrolled in school: - Graduate or professional school</th>\n",
       "      <th>Not enrolled in school</th>\n",
       "      <th>Housing units with a mortgage, contract to purchase, or similar debt:</th>\n",
       "      <th>Housing units with a mortgage, contract to purchase, or similar debt: - With either a second mortgage or home equity loan, but not both:</th>\n",
       "      <th>Housing units with a mortgage, contract to purchase, or similar debt: - With either a second mortgage or home equity loan, but not both: - Second mortgage only</th>\n",
       "      <th>Housing units with a mortgage, contract to purchase, or similar debt: - With either a second mortgage or home equity loan, but not both: - Home equity loan only</th>\n",
       "      <th>Housing units with a mortgage, contract to purchase, or similar debt: - Both second mortgage and home equity loan</th>\n",
       "      <th>Housing units with a mortgage, contract to purchase, or similar debt: - No second mortgage and no home equity loan</th>\n",
       "      <th>Housing units without a mortgage</th>\n",
       "    </tr>\n",
       "  </thead>\n",
       "  <tbody>\n",
       "    <tr>\n",
       "      <th>0</th>\n",
       "      <td>12</td>\n",
       "      <td>4.4</td>\n",
       "      <td>618</td>\n",
       "      <td>7</td>\n",
       "      <td>611</td>\n",
       "      <td>228</td>\n",
       "      <td>219</td>\n",
       "      <td>9</td>\n",
       "      <td>0</td>\n",
       "      <td>9</td>\n",
       "      <td>...</td>\n",
       "      <td>50</td>\n",
       "      <td>12</td>\n",
       "      <td>636</td>\n",
       "      <td>60</td>\n",
       "      <td>12</td>\n",
       "      <td>6</td>\n",
       "      <td>6</td>\n",
       "      <td>0</td>\n",
       "      <td>48</td>\n",
       "      <td>124</td>\n",
       "    </tr>\n",
       "    <tr>\n",
       "      <th>1</th>\n",
       "      <td>19</td>\n",
       "      <td>6.1</td>\n",
       "      <td>414</td>\n",
       "      <td>14</td>\n",
       "      <td>400</td>\n",
       "      <td>154</td>\n",
       "      <td>86</td>\n",
       "      <td>68</td>\n",
       "      <td>14</td>\n",
       "      <td>54</td>\n",
       "      <td>...</td>\n",
       "      <td>22</td>\n",
       "      <td>8</td>\n",
       "      <td>460</td>\n",
       "      <td>130</td>\n",
       "      <td>13</td>\n",
       "      <td>0</td>\n",
       "      <td>13</td>\n",
       "      <td>0</td>\n",
       "      <td>117</td>\n",
       "      <td>55</td>\n",
       "    </tr>\n",
       "    <tr>\n",
       "      <th>2</th>\n",
       "      <td>35</td>\n",
       "      <td>3.5</td>\n",
       "      <td>582</td>\n",
       "      <td>0</td>\n",
       "      <td>582</td>\n",
       "      <td>345</td>\n",
       "      <td>109</td>\n",
       "      <td>236</td>\n",
       "      <td>24</td>\n",
       "      <td>212</td>\n",
       "      <td>...</td>\n",
       "      <td>57</td>\n",
       "      <td>12</td>\n",
       "      <td>945</td>\n",
       "      <td>0</td>\n",
       "      <td>0</td>\n",
       "      <td>0</td>\n",
       "      <td>0</td>\n",
       "      <td>0</td>\n",
       "      <td>0</td>\n",
       "      <td>0</td>\n",
       "    </tr>\n",
       "    <tr>\n",
       "      <th>3</th>\n",
       "      <td>12</td>\n",
       "      <td>5.0</td>\n",
       "      <td>1160</td>\n",
       "      <td>14</td>\n",
       "      <td>1146</td>\n",
       "      <td>526</td>\n",
       "      <td>327</td>\n",
       "      <td>199</td>\n",
       "      <td>100</td>\n",
       "      <td>99</td>\n",
       "      <td>...</td>\n",
       "      <td>62</td>\n",
       "      <td>31</td>\n",
       "      <td>1357</td>\n",
       "      <td>299</td>\n",
       "      <td>31</td>\n",
       "      <td>0</td>\n",
       "      <td>31</td>\n",
       "      <td>0</td>\n",
       "      <td>268</td>\n",
       "      <td>173</td>\n",
       "    </tr>\n",
       "    <tr>\n",
       "      <th>4</th>\n",
       "      <td>4</td>\n",
       "      <td>3.1</td>\n",
       "      <td>1121</td>\n",
       "      <td>32</td>\n",
       "      <td>1089</td>\n",
       "      <td>435</td>\n",
       "      <td>328</td>\n",
       "      <td>107</td>\n",
       "      <td>67</td>\n",
       "      <td>40</td>\n",
       "      <td>...</td>\n",
       "      <td>68</td>\n",
       "      <td>18</td>\n",
       "      <td>1256</td>\n",
       "      <td>69</td>\n",
       "      <td>0</td>\n",
       "      <td>0</td>\n",
       "      <td>0</td>\n",
       "      <td>0</td>\n",
       "      <td>69</td>\n",
       "      <td>22</td>\n",
       "    </tr>\n",
       "  </tbody>\n",
       "</table>\n",
       "<p>5 rows × 158 columns</p>\n",
       "</div>"
      ],
      "text/plain": [
       "   CMPLNT_NUM Median number of rooms Total Total - Imputed  \\\n",
       "0          12                    4.4   618               7   \n",
       "1          19                    6.1   414              14   \n",
       "2          35                    3.5   582               0   \n",
       "3          12                    5.0  1160              14   \n",
       "4           4                    3.1  1121              32   \n",
       "\n",
       "  Total - Not imputed Family households:  \\\n",
       "0                 611                228   \n",
       "1                 400                154   \n",
       "2                 582                345   \n",
       "3                1146                526   \n",
       "4                1089                435   \n",
       "\n",
       "  Family households: - Married-couple family  \\\n",
       "0                                        219   \n",
       "1                                         86   \n",
       "2                                        109   \n",
       "3                                        327   \n",
       "4                                        328   \n",
       "\n",
       "  Family households: - Other family:  \\\n",
       "0                                  9   \n",
       "1                                 68   \n",
       "2                                236   \n",
       "3                                199   \n",
       "4                                107   \n",
       "\n",
       "  Family households: - Other family: - Male householder, no wife present  \\\n",
       "0                                                  0                       \n",
       "1                                                 14                       \n",
       "2                                                 24                       \n",
       "3                                                100                       \n",
       "4                                                 67                       \n",
       "\n",
       "  Family households: - Other family: - Female householder, no husband present  \\\n",
       "0                                                  9                            \n",
       "1                                                 54                            \n",
       "2                                                212                            \n",
       "3                                                 99                            \n",
       "4                                                 40                            \n",
       "\n",
       "                ...                 \\\n",
       "0               ...                  \n",
       "1               ...                  \n",
       "2               ...                  \n",
       "3               ...                  \n",
       "4               ...                  \n",
       "\n",
       "  Enrolled in school: - Enrolled in college, undergraduate years  \\\n",
       "0                                                 50               \n",
       "1                                                 22               \n",
       "2                                                 57               \n",
       "3                                                 62               \n",
       "4                                                 68               \n",
       "\n",
       "  Enrolled in school: - Graduate or professional school  \\\n",
       "0                                                 12      \n",
       "1                                                  8      \n",
       "2                                                 12      \n",
       "3                                                 31      \n",
       "4                                                 18      \n",
       "\n",
       "  Not enrolled in school  \\\n",
       "0                    636   \n",
       "1                    460   \n",
       "2                    945   \n",
       "3                   1357   \n",
       "4                   1256   \n",
       "\n",
       "  Housing units with a mortgage, contract to purchase, or similar debt:  \\\n",
       "0                                                 60                      \n",
       "1                                                130                      \n",
       "2                                                  0                      \n",
       "3                                                299                      \n",
       "4                                                 69                      \n",
       "\n",
       "  Housing units with a mortgage, contract to purchase, or similar debt: - With either a second mortgage or home equity loan, but not both:  \\\n",
       "0                                                 12                                                                                         \n",
       "1                                                 13                                                                                         \n",
       "2                                                  0                                                                                         \n",
       "3                                                 31                                                                                         \n",
       "4                                                  0                                                                                         \n",
       "\n",
       "  Housing units with a mortgage, contract to purchase, or similar debt: - With either a second mortgage or home equity loan, but not both: - Second mortgage only  \\\n",
       "0                                                  6                                                                                                                \n",
       "1                                                  0                                                                                                                \n",
       "2                                                  0                                                                                                                \n",
       "3                                                  0                                                                                                                \n",
       "4                                                  0                                                                                                                \n",
       "\n",
       "  Housing units with a mortgage, contract to purchase, or similar debt: - With either a second mortgage or home equity loan, but not both: - Home equity loan only  \\\n",
       "0                                                  6                                                                                                                 \n",
       "1                                                 13                                                                                                                 \n",
       "2                                                  0                                                                                                                 \n",
       "3                                                 31                                                                                                                 \n",
       "4                                                  0                                                                                                                 \n",
       "\n",
       "  Housing units with a mortgage, contract to purchase, or similar debt: - Both second mortgage and home equity loan  \\\n",
       "0                                                  0                                                                  \n",
       "1                                                  0                                                                  \n",
       "2                                                  0                                                                  \n",
       "3                                                  0                                                                  \n",
       "4                                                  0                                                                  \n",
       "\n",
       "  Housing units with a mortgage, contract to purchase, or similar debt: - No second mortgage and no home equity loan  \\\n",
       "0                                                 48                                                                   \n",
       "1                                                117                                                                   \n",
       "2                                                  0                                                                   \n",
       "3                                                268                                                                   \n",
       "4                                                 69                                                                   \n",
       "\n",
       "  Housing units without a mortgage  \n",
       "0                              124  \n",
       "1                               55  \n",
       "2                                0  \n",
       "3                              173  \n",
       "4                               22  \n",
       "\n",
       "[5 rows x 158 columns]"
      ]
     },
     "execution_count": 57,
     "metadata": {},
     "output_type": "execute_result"
    }
   ],
   "source": [
    "# Data is very sparse...\n",
    "print(full_misdemeanor[\"CMPLNT_NUM\"].sum() / full_misdemeanor[\"CMPLNT_NUM\"].count())\n",
    "full_misdemeanor = full_misdemeanor.drop([\"BLOCK_complaints\", \"YEAR\", \"BLOCK\"], axis=1)\n",
    "full_misdemeanor.head()"
   ]
  },
  {
   "cell_type": "code",
   "execution_count": 51,
   "metadata": {
    "collapsed": false,
    "scrolled": true
   },
   "outputs": [
    {
     "ename": "KeyboardInterrupt",
     "evalue": "",
     "output_type": "error",
     "traceback": [
      "\u001b[0;31m---------------------------------------------------------------------------\u001b[0m",
      "\u001b[0;31mKeyboardInterrupt\u001b[0m                         Traceback (most recent call last)",
      "\u001b[0;32m<ipython-input-51-9108b62578bf>\u001b[0m in \u001b[0;36m<module>\u001b[0;34m()\u001b[0m\n\u001b[1;32m      2\u001b[0m \u001b[0;34m\u001b[0m\u001b[0m\n\u001b[1;32m      3\u001b[0m \u001b[0;32mfor\u001b[0m \u001b[0mcol\u001b[0m \u001b[0;32min\u001b[0m \u001b[0mfull_misdemeanor\u001b[0m\u001b[0;34m.\u001b[0m\u001b[0mcolumns\u001b[0m\u001b[0;34m:\u001b[0m\u001b[0;34m\u001b[0m\u001b[0m\n\u001b[0;32m----> 4\u001b[0;31m     \u001b[0;32mfor\u001b[0m \u001b[0midx\u001b[0m\u001b[0;34m,\u001b[0m \u001b[0mrow\u001b[0m \u001b[0;32min\u001b[0m \u001b[0mfull_misdemeanor\u001b[0m\u001b[0;34m.\u001b[0m\u001b[0miterrows\u001b[0m\u001b[0;34m(\u001b[0m\u001b[0;34m)\u001b[0m\u001b[0;34m:\u001b[0m\u001b[0;34m\u001b[0m\u001b[0m\n\u001b[0m\u001b[1;32m      5\u001b[0m         \u001b[0;32mtry\u001b[0m\u001b[0;34m:\u001b[0m\u001b[0;34m\u001b[0m\u001b[0m\n\u001b[1;32m      6\u001b[0m             \u001b[0mfloat\u001b[0m\u001b[0;34m(\u001b[0m\u001b[0mfull_misdemeanor\u001b[0m\u001b[0;34m[\u001b[0m\u001b[0mcol\u001b[0m\u001b[0;34m]\u001b[0m\u001b[0;34m.\u001b[0m\u001b[0mloc\u001b[0m\u001b[0;34m[\u001b[0m\u001b[0midx\u001b[0m\u001b[0;34m]\u001b[0m\u001b[0;34m)\u001b[0m\u001b[0;34m\u001b[0m\u001b[0m\n",
      "\u001b[0;32m/Library/Frameworks/Python.framework/Versions/3.5/lib/python3.5/site-packages/pandas/core/frame.py\u001b[0m in \u001b[0;36miterrows\u001b[0;34m(self)\u001b[0m\n\u001b[1;32m    746\u001b[0m         \u001b[0mklass\u001b[0m \u001b[0;34m=\u001b[0m \u001b[0mself\u001b[0m\u001b[0;34m.\u001b[0m\u001b[0m_constructor_sliced\u001b[0m\u001b[0;34m\u001b[0m\u001b[0m\n\u001b[1;32m    747\u001b[0m         \u001b[0;32mfor\u001b[0m \u001b[0mk\u001b[0m\u001b[0;34m,\u001b[0m \u001b[0mv\u001b[0m \u001b[0;32min\u001b[0m \u001b[0mzip\u001b[0m\u001b[0;34m(\u001b[0m\u001b[0mself\u001b[0m\u001b[0;34m.\u001b[0m\u001b[0mindex\u001b[0m\u001b[0;34m,\u001b[0m \u001b[0mself\u001b[0m\u001b[0;34m.\u001b[0m\u001b[0mvalues\u001b[0m\u001b[0;34m)\u001b[0m\u001b[0;34m:\u001b[0m\u001b[0;34m\u001b[0m\u001b[0m\n\u001b[0;32m--> 748\u001b[0;31m             \u001b[0ms\u001b[0m \u001b[0;34m=\u001b[0m \u001b[0mklass\u001b[0m\u001b[0;34m(\u001b[0m\u001b[0mv\u001b[0m\u001b[0;34m,\u001b[0m \u001b[0mindex\u001b[0m\u001b[0;34m=\u001b[0m\u001b[0mcolumns\u001b[0m\u001b[0;34m,\u001b[0m \u001b[0mname\u001b[0m\u001b[0;34m=\u001b[0m\u001b[0mk\u001b[0m\u001b[0;34m)\u001b[0m\u001b[0;34m\u001b[0m\u001b[0m\n\u001b[0m\u001b[1;32m    749\u001b[0m             \u001b[0;32myield\u001b[0m \u001b[0mk\u001b[0m\u001b[0;34m,\u001b[0m \u001b[0ms\u001b[0m\u001b[0;34m\u001b[0m\u001b[0m\n\u001b[1;32m    750\u001b[0m \u001b[0;34m\u001b[0m\u001b[0m\n",
      "\u001b[0;31mKeyboardInterrupt\u001b[0m: "
     ]
    }
   ],
   "source": [
    "# data.apply(pd.to_numeric)\n",
    "\n",
    "for col in full_misdemeanor.columns:\n",
    "    for idx, row in full_misdemeanor.iterrows():\n",
    "        try:\n",
    "            float(full_misdemeanor[col].loc[idx])\n",
    "        except:\n",
    "            print(col, idx, full_misdemeanor[col].loc[idx])"
   ]
  },
  {
   "cell_type": "code",
   "execution_count": 67,
   "metadata": {
    "collapsed": false,
    "scrolled": true
   },
   "outputs": [],
   "source": [
    "# Check if it is the right way to do it!!\n",
    "full_misdemeanor.replace('-', 0, inplace=True)\n",
    "full_misdemeanor.replace({',':'', '\\+':''}, regex=True, inplace=True)\n",
    "full_misdemeanor.fillna(0, inplace=True)"
   ]
  },
  {
   "cell_type": "code",
   "execution_count": 68,
   "metadata": {
    "collapsed": false
   },
   "outputs": [],
   "source": [
    "full_misdemeanor.to_csv(\"data/full_misdemeanor.csv\")"
   ]
  },
  {
   "cell_type": "code",
   "execution_count": 66,
   "metadata": {
    "collapsed": false
   },
   "outputs": [
    {
     "data": {
      "text/plain": [
       "((6281, 158), (6281, 158))"
      ]
     },
     "execution_count": 66,
     "metadata": {},
     "output_type": "execute_result"
    }
   ],
   "source": [
    "full_misdemeanor.loc[:, (full_misdemeanor != 0).any(axis=0)].shape, full_misdemeanor.shape"
   ]
  },
  {
   "cell_type": "code",
   "execution_count": null,
   "metadata": {
    "collapsed": true
   },
   "outputs": [],
   "source": []
  }
 ],
 "metadata": {
  "kernelspec": {
   "display_name": "Python 3",
   "language": "python",
   "name": "python3"
  },
  "language_info": {
   "codemirror_mode": {
    "name": "ipython",
    "version": 3
   },
   "file_extension": ".py",
   "mimetype": "text/x-python",
   "name": "python",
   "nbconvert_exporter": "python",
   "pygments_lexer": "ipython3",
   "version": "3.5.0"
  }
 },
 "nbformat": 4,
 "nbformat_minor": 0
}
