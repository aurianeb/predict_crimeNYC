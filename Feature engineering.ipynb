{
 "cells": [
  {
   "cell_type": "code",
   "execution_count": 1,
   "metadata": {
    "collapsed": true
   },
   "outputs": [],
   "source": [
    "import pandas as pd"
   ]
  },
  {
   "cell_type": "code",
   "execution_count": 6,
   "metadata": {
    "collapsed": true
   },
   "outputs": [],
   "source": [
    "data = pd.read_csv(\"data/full_dataset.csv\")\n"
   ]
  },
  {
   "cell_type": "code",
   "execution_count": 23,
   "metadata": {
    "collapsed": false,
    "scrolled": true
   },
   "outputs": [],
   "source": [
    "good_features = pd.DataFrame()\n",
    "good_features[\"Male_perc\"] = data[\"Male:\"] / (data[\"Male:\"] + data[\"Female:\"])\n",
    "\n",
    "no_middle_school = [\"No schooling completed\",\n",
    "\"Kindergarten\",\n",
    "\"1st grade\",\n",
    "\"2nd grade\",\n",
    "\"3rd grade\",\n",
    "\"4th grade\",\n",
    "\"5th grade\"]\n",
    "good_features[\"no_middle_school\"] = data[no_middle_school].sum(axis=1)\n",
    "\n",
    "no_high_school = [\n",
    "\"6th grade\",\n",
    "\"7th grade\",\n",
    "\"8th grade\"]\n",
    "good_features[\"no_high_school\"] = data[no_high_school].sum(axis=1)\n",
    "\n",
    "no_high_school_diploma = [\n",
    "\"9th grade\",\n",
    "\"10th grade\",\n",
    "\"11th grade\",\n",
    "\"12th grade, no diploma\"]\n",
    "good_features[\"no_high_school_diploma\"] = data[no_high_school_diploma].sum(axis=1)\n",
    "\n",
    "good_features[\"high_school_diploma\"] = data[\"Regular high school diploma\"]\n",
    "\n",
    "some_college = [\"GED or alternative credential\",\n",
    "\"Some college, less than 1 year\",\n",
    "\"Some college, 1 or more years, no degree\",\n",
    "\"Associate's degree\"]\n",
    "good_features[\"some_college\"] = data[some_college].sum(axis=1)\n",
    "\n",
    "good_features[\"Bachelor's degree\"] = data[\"Bachelor's degree\"]\n",
    "\n",
    "good_features[\"Master's degree or more\"] = data[\"Master's degree\"] + data[\"Professional school degree\"] + data[\"Doctorate degree\"]"
   ]
  },
  {
   "cell_type": "code",
   "execution_count": 25,
   "metadata": {
    "collapsed": true
   },
   "outputs": [],
   "source": [
    "children = [c for c in data.columns if \"Under 5 years\" in c] + \\\n",
    "[c for c in data.columns if \"5 to 9 years\" in c] + \\\n",
    "[c for c in data.columns if \"10 to 14 years\" in c] \n",
    "\n",
    "good_features[\"children\"] = data[children].sum(axis=1)\n",
    "\n",
    "teenagers = [c for c in data.columns if \"15 to 17 years\" in c] + \\\n",
    "[c for c in data.columns if \"18 and 19 years \" in c] + \\\n",
    "[c for c in data.columns if \"20 years\" in c] + \\\n",
    "[c for c in data.columns if \"21 years\" in c] + \\\n",
    "[c for c in data.columns if \"22 to 24 years\" in c] \n",
    "\n",
    "good_features[\"teenagers\"] = data[teenagers].sum(axis=1)\n",
    "\n",
    "young_adults = [c for c in data.columns if \"25 to 29 years\" in c] + \\\n",
    "[c for c in data.columns if \"30 to 34 years\" in c] + \\\n",
    "[c for c in data.columns if \"10 to 14 years\" in c] \n",
    "\n",
    "good_features[\"young_adults\"] = data[young_adults].sum(axis=1)\n",
    "\n",
    "adults = [c for c in data.columns if \"35 to 39 years\" in c] + \\\n",
    "[c for c in data.columns if \"40 to 44 years\" in c] + \\\n",
    "[c for c in data.columns if \"45 to 49 years\" in c] + \\\n",
    "[c for c in data.columns if \"50 to 54 years\" in c] + \\\n",
    "[c for c in data.columns if \"55 to 59 years\" in c] \n",
    "\n",
    "good_features[\"adults\"] = data[adults].sum(axis=1)\n",
    "\n",
    "eldery = [c for c in data.columns if \"60 and 61 years\" in c] + \\\n",
    "[c for c in data.columns if \"62 to 64 years\" in c] + \\\n",
    "[c for c in data.columns if \"65 and 66 years\" in c] + \\\n",
    "[c for c in data.columns if \"67 to 69 years\" in c] + \\\n",
    "[c for c in data.columns if \"70 to 74 years\" in c] + \\\n",
    "[c for c in data.columns if \"75 to 79 years\" in c] + \\\n",
    "[c for c in data.columns if \"80 to 84 years\" in c] + \\\n",
    "[c for c in data.columns if \"85 years and over\" in c] \n",
    "\n",
    "good_features[\"eldery\"] = data[eldery].sum(axis=1)"
   ]
  },
  {
   "cell_type": "code",
   "execution_count": 30,
   "metadata": {
    "collapsed": false,
    "scrolled": true
   },
   "outputs": [],
   "source": [
    "good_features[\"Less than $10,000\"] = data[\"Less than $10,000\"]\n",
    "\n",
    "good_features[\"$10,000 to $29,999\"] = data[\"$10,000 to $14,999\"] + data[\"$15,000 to $19,999\"] +\\\n",
    "data[\"$20,000 to $24,999\"] + data[\"$25,000 to $29,999\"]\n",
    "\n",
    "good_features[\"$30,000 to $49,999\"] = data[\"$30,000 to $34,999\"] + data[\"$35,000 to $39,999\"] +\\\n",
    "data[\"$40,000 to $44,999\"] + data[\"$45,000 to $49,999\"]\n",
    "\n",
    "good_features[\"$50,000 to $74,999\"] = data[\"$50,000 to $59,999\"] + data[\"$60,000 to $74,999\"] \n",
    "\n",
    "good_features[\"$75,000 to $99,999\"] = data[\"$75,000 to $99,999\"] \n",
    "\n",
    "good_features[\"$100,000 or more\"] = data[\"$100,000 to $124,999\"] + data[\"$125,000 to $149,999\"] +\\\n",
    "data[\"$150,000 to $199,999\"] + data[\"$200,000 or more\"]"
   ]
  },
  {
   "cell_type": "code",
   "execution_count": 36,
   "metadata": {
    "collapsed": false,
    "scrolled": true
   },
   "outputs": [],
   "source": [
    "good_features[\"Family households: - 2-person household\"] = data[\"Family households: - 2-person household\"]\n",
    "\n",
    "good_features[\"Family households: - 3-person household\"] = data[\"Family households: - 3-person household\"]\n",
    "\n",
    "good_features[\"Family households: - 4-person household\"] = data[\"Family households: - 4-person household\"]\n",
    "\n",
    "good_features[\"Family households: - 5-or-more person household\"] = data[\"Family households: - 5-person household\"] +\\\n",
    "data[\"Family households: - 6-person household\"] + data[\"Family households: - 7-or-more person household\"]\n",
    "\n",
    "good_features[\"Nonfamily households: - 1-person household\"] = data[\"Nonfamily households: - 1-person household\"]\n",
    "\n",
    "good_features[\"Nonfamily households: - 2-or-more person household\"] = data[[c for c in data.columns if \"Nonfamily households: \" in c and \"1-\" not in c]].sum(axis=1)"
   ]
  },
  {
   "cell_type": "code",
   "execution_count": 37,
   "metadata": {
    "collapsed": true
   },
   "outputs": [],
   "source": [
    "good_features[\"White alone\"] = data[\"White alone\"]\n",
    "good_features[\"Black or African American alone\"] = data[\"Black or African American alone\"]\n",
    "good_features[\"Asian alone\"] = data[\"Asian alone\"]\n",
    "good_features[\"Other\"] = data[\"American Indian and Alaska Native alone\"] + data[\"Native Hawaiian and Other Pacific Islander alone\"] +\\\n",
    "data[\"Some other race alone\"]\n",
    "good_features[\"Two or more races\"] = data[\"Two or more races:\"]"
   ]
  },
  {
   "cell_type": "code",
   "execution_count": 39,
   "metadata": {
    "collapsed": true
   },
   "outputs": [],
   "source": [
    "good_features[[\"FELONY\", \"MISDEMEANOR\", \"VIOLATION\", \"FELONY_perc\", \"MISDEMEANOR_perc\", \"VIOLATION_perc\"]] = data[[\"FELONY\", \"MISDEMEANOR\", \"VIOLATION\", \"FELONY_perc\", \"MISDEMEANOR_perc\", \"VIOLATION_perc\"]]"
   ]
  },
  {
   "cell_type": "code",
   "execution_count": 40,
   "metadata": {
    "collapsed": true
   },
   "outputs": [],
   "source": [
    "good_features.to_csv(\"data/aggregated_features.csv\")"
   ]
  },
  {
   "cell_type": "code",
   "execution_count": 38,
   "metadata": {
    "collapsed": false
   },
   "outputs": [
    {
     "data": {
      "text/plain": [
       "Built 2014 or later         4295.0\n",
       "Built 2010 to 2013         38168.0\n",
       "Built 2000 to 2009        205148.0\n",
       "Built 1990 to 1999        120807.0\n",
       "Built 1980 to 1989        154895.0\n",
       "Built 1970 to 1979        238963.0\n",
       "Built 1960 to 1969        411916.0\n",
       "Built 1950 to 1959        438041.0\n",
       "Built 1940 to 1949        341052.0\n",
       "Built 1939 or earlier    1349360.0\n",
       "dtype: float64"
      ]
     },
     "execution_count": 38,
     "metadata": {},
     "output_type": "execute_result"
    }
   ],
   "source": [
    "\n",
    "data[[c for c in data.columns if \"Built\" in c]].sum(axis=0)"
   ]
  },
  {
   "cell_type": "code",
   "execution_count": 8,
   "metadata": {
    "collapsed": false,
    "scrolled": false
   },
   "outputs": [
    {
     "name": "stdout",
     "output_type": "stream",
     "text": [
      "No schooling completed\n",
      "Nursery school\n",
      "Kindergarten\n",
      "1st grade\n",
      "2nd grade\n",
      "3rd grade\n",
      "4th grade\n",
      "5th grade\n",
      "6th grade\n",
      "7th grade\n",
      "8th grade\n",
      "9th grade\n",
      "10th grade\n",
      "11th grade\n",
      "12th grade, no diploma\n",
      "Regular high school diploma\n",
      "GED or alternative credential\n",
      "Some college, less than 1 year\n",
      "Some college, 1 or more years, no degree\n",
      "Associate's degree\n",
      "Bachelor's degree\n",
      "Master's degree\n",
      "Professional school degree\n",
      "Doctorate degree\n",
      "Male:\n",
      "Male: - Under 5 years\n",
      "Male: - 5 to 9 years\n",
      "Male: - 10 to 14 years\n",
      "Male: - 15 to 17 years\n",
      "Male: - 18 and 19 years\n",
      "Male: - 20 years\n",
      "Male: - 21 years\n",
      "Male: - 22 to 24 years\n",
      "Male: - 25 to 29 years\n",
      "Male: - 30 to 34 years\n",
      "Male: - 35 to 39 years\n",
      "Male: - 40 to 44 years\n",
      "Male: - 45 to 49 years\n",
      "Male: - 50 to 54 years\n",
      "Male: - 55 to 59 years\n",
      "Male: - 60 and 61 years\n",
      "Male: - 62 to 64 years\n",
      "Male: - 65 and 66 years\n",
      "Male: - 67 to 69 years\n",
      "Male: - 70 to 74 years\n",
      "Male: - 75 to 79 years\n",
      "Male: - 80 to 84 years\n",
      "Male: - 85 years and over\n",
      "Female:\n",
      "Female: - Under 5 years\n",
      "Female: - 5 to 9 years\n",
      "Female: - 10 to 14 years\n",
      "Female: - 15 to 17 years\n",
      "Female: - 18 and 19 years\n",
      "Female: - 20 years\n",
      "Female: - 21 years\n",
      "Female: - 22 to 24 years\n",
      "Female: - 25 to 29 years\n",
      "Female: - 30 to 34 years\n",
      "Female: - 35 to 39 years\n",
      "Female: - 40 to 44 years\n",
      "Female: - 45 to 49 years\n",
      "Female: - 50 to 54 years\n",
      "Female: - 55 to 59 years\n",
      "Female: - 60 and 61 years\n",
      "Female: - 62 to 64 years\n",
      "Female: - 65 and 66 years\n",
      "Female: - 67 to 69 years\n",
      "Female: - 70 to 74 years\n",
      "Female: - 75 to 79 years\n",
      "Female: - 80 to 84 years\n",
      "Female: - 85 years and over\n",
      "Less than $10,000\n",
      "$10,000 to $14,999\n",
      "$15,000 to $19,999\n",
      "$20,000 to $24,999\n",
      "$25,000 to $29,999\n",
      "$30,000 to $34,999\n",
      "$35,000 to $39,999\n",
      "$40,000 to $44,999\n",
      "$45,000 to $49,999\n",
      "$50,000 to $59,999\n",
      "$60,000 to $74,999\n",
      "$75,000 to $99,999\n",
      "$100,000 to $124,999\n",
      "$125,000 to $149,999\n",
      "$150,000 to $199,999\n",
      "$200,000 or more\n",
      "In labor force:\n",
      "In labor force: - Civilian labor force:\n",
      "In labor force: - Civilian labor force: - Employed\n",
      "In labor force: - Civilian labor force: - Unemployed\n",
      "In labor force: - Armed Forces\n",
      "Not in labor force\n",
      "Family households:\n",
      "Family households: - 2-person household\n",
      "Family households: - 3-person household\n",
      "Family households: - 4-person household\n",
      "Family households: - 5-person household\n",
      "Family households: - 6-person household\n",
      "Family households: - 7-or-more person household\n",
      "Nonfamily households:\n",
      "Nonfamily households: - 1-person household\n",
      "Nonfamily households: - 2-person household\n",
      "Nonfamily households: - 3-person household\n",
      "Nonfamily households: - 4-person household\n",
      "Nonfamily households: - 5-person household\n",
      "Nonfamily households: - 6-person household\n",
      "Nonfamily households: - 7-or-more person household\n",
      "White alone\n",
      "Black or African American alone\n",
      "American Indian and Alaska Native alone\n",
      "Asian alone\n",
      "Native Hawaiian and Other Pacific Islander alone\n",
      "Some other race alone\n",
      "Two or more races:\n",
      "Two or more races: - Two races including Some other race\n",
      "Two or more races: - Two races excluding Some other race, and three or more races\n",
      "Total\n",
      "Built 2014 or later\n",
      "Built 2010 to 2013\n",
      "Built 2000 to 2009\n",
      "Built 1990 to 1999\n",
      "Built 1980 to 1989\n",
      "Built 1970 to 1979\n",
      "Built 1960 to 1969\n",
      "Built 1950 to 1959\n",
      "Built 1940 to 1949\n",
      "Built 1939 or earlier\n",
      "FELONY\n",
      "MISDEMEANOR\n",
      "VIOLATION\n",
      "FELONY_perc\n",
      "MISDEMEANOR_perc\n",
      "VIOLATION_perc\n"
     ]
    }
   ],
   "source": [
    "for c in data.columns:\n",
    "    print(c)"
   ]
  },
  {
   "cell_type": "code",
   "execution_count": null,
   "metadata": {
    "collapsed": true
   },
   "outputs": [],
   "source": []
  }
 ],
 "metadata": {
  "kernelspec": {
   "display_name": "Python 3",
   "language": "python",
   "name": "python3"
  },
  "language_info": {
   "codemirror_mode": {
    "name": "ipython",
    "version": 3
   },
   "file_extension": ".py",
   "mimetype": "text/x-python",
   "name": "python",
   "nbconvert_exporter": "python",
   "pygments_lexer": "ipython3",
   "version": "3.5.0"
  }
 },
 "nbformat": 4,
 "nbformat_minor": 0
}
